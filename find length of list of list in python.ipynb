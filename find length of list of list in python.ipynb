{
 "cells": [
  {
   "cell_type": "markdown",
   "id": "ed247876",
   "metadata": {},
   "source": [
    "# #Find length of list of list in python"
   ]
  },
  {
   "cell_type": "markdown",
   "id": "e6dbebd6",
   "metadata": {},
   "source": []
  },
  {
   "cell_type": "markdown",
   "id": "385e5976",
   "metadata": {},
   "source": [
    "# ####Demonstrating finding length of list using Naive Method"
   ]
  },
  {
   "cell_type": "code",
   "execution_count": 1,
   "id": "c0c69cef",
   "metadata": {},
   "outputs": [
    {
     "name": "stdout",
     "output_type": "stream",
     "text": [
      "The list is : [1, 4, 5, 7, 8]\n"
     ]
    }
   ],
   "source": [
    "# Python code to demonstrate\n",
    "# length of list\n",
    "# using naive method\n",
    "  \n",
    "# Initializing list \n",
    "test_list = [ 1, 4, 5, 7, 8 ]\n",
    "  \n",
    "# Printing test_list\n",
    "print (\"The list is : \" + str(test_list))\n",
    "  \n",
    "# Finding length of list \n",
    "# using loop\n",
    "# Initializing counter\n",
    "counter = 0\n",
    "for i in test_list:\n",
    "      \n",
    "    # incrementing counter\n",
    "    counter = counter + 1"
   ]
  }
 ],
 "metadata": {
  "kernelspec": {
   "display_name": "Python 3 (ipykernel)",
   "language": "python",
   "name": "python3"
  },
  "language_info": {
   "codemirror_mode": {
    "name": "ipython",
    "version": 3
   },
   "file_extension": ".py",
   "mimetype": "text/x-python",
   "name": "python",
   "nbconvert_exporter": "python",
   "pygments_lexer": "ipython3",
   "version": "3.9.7"
  }
 },
 "nbformat": 4,
 "nbformat_minor": 5
}
