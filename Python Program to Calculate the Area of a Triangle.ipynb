{
 "cells": [
  {
   "cell_type": "code",
   "execution_count": null,
   "id": "ad21d319",
   "metadata": {},
   "outputs": [],
   "source": [
    "Python Program to Calculate the Area of a Triangle"
   ]
  },
  {
   "cell_type": "markdown",
   "id": "d3a1b2f7",
   "metadata": {},
   "source": [
    "## find the area of triangle\n"
   ]
  },
  {
   "cell_type": "code",
   "execution_count": 6,
   "id": "9997677a",
   "metadata": {},
   "outputs": [
    {
     "name": "stdout",
     "output_type": "stream",
     "text": [
      "The area of the triangle is 14.70\n"
     ]
    }
   ],
   "source": [
    "a = 5\n",
    "b = 6\n",
    "c = 7\n",
    "\n",
    "# Uncomment below to take inputs from the user\n",
    "# a = float(input('Enter first side: '))\n",
    "# b = float(input('Enter second side: '))\n",
    "# c = float(input('Enter third side: '))\n",
    "\n",
    "# calculate the semi-perimeter\n",
    "s = (a + b + c) / 2\n",
    "\n",
    "# calculate the area\n",
    "area = (s*(s-a)*(s-b)*(s-c)) ** 0.5\n",
    "print('The area of the triangle is %0.2f' %area)"
   ]
  }
 ],
 "metadata": {
  "kernelspec": {
   "display_name": "Python 3 (ipykernel)",
   "language": "python",
   "name": "python3"
  },
  "language_info": {
   "codemirror_mode": {
    "name": "ipython",
    "version": 3
   },
   "file_extension": ".py",
   "mimetype": "text/x-python",
   "name": "python",
   "nbconvert_exporter": "python",
   "pygments_lexer": "ipython3",
   "version": "3.9.7"
  }
 },
 "nbformat": 4,
 "nbformat_minor": 5
}
