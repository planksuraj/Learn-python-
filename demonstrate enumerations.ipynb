{
 "cells": [
  {
   "cell_type": "markdown",
   "id": "3634ceed",
   "metadata": {},
   "source": [
    "demonstrate enumerations"
   ]
  },
  {
   "cell_type": "code",
   "execution_count": null,
   "id": "86ed11e2",
   "metadata": {},
   "outputs": [],
   "source": [
    " \n",
    " \n",
    "# importing enum for enumerations\n",
    "import enum\n",
    " \n",
    "# creating enumerations using class\n",
    "class Animal(enum.Enum):\n",
    "    dog = 1\n",
    "    cat = 2\n",
    "    lion = 3\n",
    " \n",
    "# printing enum member as string\n",
    "print (\"The string representation of enum member is : \",end=\"\")\n",
    "print (Animal.dog)\n",
    " \n",
    "# printing enum member as repr\n",
    "print (\"The repr representation of enum member is : \",end=\"\")\n",
    "print (repr(Animal.dog))\n",
    " \n",
    "# printing the type of enum member using type()\n",
    "print (\"The type of enum member is : \",end =\"\")\n",
    "print (type(Animal.dog))\n",
    " \n",
    "# printing name of enum member using \"name\" keyword\n",
    "print (\"The name of enum member is : \",end =\"\")\n",
    "print (Animal.dog.name)"
   ]
  }
 ],
 "metadata": {
  "kernelspec": {
   "display_name": "Python 3 (ipykernel)",
   "language": "python",
   "name": "python3"
  },
  "language_info": {
   "codemirror_mode": {
    "name": "ipython",
    "version": 3
   },
   "file_extension": ".py",
   "mimetype": "text/x-python",
   "name": "python",
   "nbconvert_exporter": "python",
   "pygments_lexer": "ipython3",
   "version": "3.9.7"
  }
 },
 "nbformat": 4,
 "nbformat_minor": 5
}
