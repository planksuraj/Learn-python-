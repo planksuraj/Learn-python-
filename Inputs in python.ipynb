{
 "cells": [
  {
   "cell_type": "markdown",
   "id": "535eeb40",
   "metadata": {},
   "source": [
    "# Python Input"
   ]
  },
  {
   "cell_type": "markdown",
   "id": "e82aa4ff",
   "metadata": {},
   "source": [
    "## Taking input from users using input()"
   ]
  },
  {
   "cell_type": "code",
   "execution_count": null,
   "id": "6465a2a3",
   "metadata": {},
   "outputs": [],
   "source": [
    "\n",
    "print(\"what is your name?\")\n",
    "name = input()\n",
    "print(\"what is your age?\")\n",
    "age = input()\n",
    "print(\"whats your height?\")\n",
    "height = input()\n",
    "print(\"what is your weight?\")\n",
    "weight = input()\n",
    "print(\"welcom %r, \\n so you are %r years old, \\n you are %r tall \\t and %r kg heavy.\" %(name,age, height, weight))"
   ]
  }
 ],
 "metadata": {
  "kernelspec": {
   "display_name": "Python 3 (ipykernel)",
   "language": "python",
   "name": "python3"
  },
  "language_info": {
   "codemirror_mode": {
    "name": "ipython",
    "version": 3
   },
   "file_extension": ".py",
   "mimetype": "text/x-python",
   "name": "python",
   "nbconvert_exporter": "python",
   "pygments_lexer": "ipython3",
   "version": "3.9.7"
  }
 },
 "nbformat": 4,
 "nbformat_minor": 5
}
