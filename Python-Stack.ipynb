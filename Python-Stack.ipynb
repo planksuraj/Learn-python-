{
 "cells": [
  {
   "cell_type": "markdown",
   "id": "5166e68f",
   "metadata": {},
   "source": [
    "# Stack"
   ]
  },
  {
   "cell_type": "markdown",
   "id": "58540f84",
   "metadata": {},
   "source": [
    "A stack is an Abstract Data Type (ADT), commonly used in most programming languages."
   ]
  },
  {
   "cell_type": "markdown",
   "id": "511b704c",
   "metadata": {},
   "source": [
    "A real-world stack allows operations at one end only. For example, we can place or remove a card or plate from the top of the stack only. Likewise, Stack ADT allows all data operations at one end only. At any given time, we can only access the top element of a stack.\n",
    "\n",
    "This feature makes it LIFO data structure. LIFO stands for Last-in-first-out. Here, the element which is placed (inserted or added) last, is accessed first. In stack terminology, insertion operation is called PUSH operation and removal operation is called POP operation."
   ]
  },
  {
   "cell_type": "markdown",
   "id": "99354f3d",
   "metadata": {},
   "source": [
    "# Basic Operations\n"
   ]
  },
  {
   "cell_type": "markdown",
   "id": "0327dc12",
   "metadata": {},
   "source": [
    "Stack operations may involve initializing the stack, using it and then de-initializing it. Apart from these basic stuffs, a stack is used for the following two primary operations −\n",
    "\n"
   ]
  },
  {
   "cell_type": "markdown",
   "id": "59e5f3ca",
   "metadata": {},
   "source": [
    "    push() − Pushing (storing) an element on the stack.\n",
    "\n",
    "    pop() − Removing (accessing) an element from the stack.\n",
    "\n",
    "When data is PUSHed onto stack.\n",
    "\n",
    "To use a stack efficiently, we need to check the status of stack as well. For the same purpose, the following functionality is added to stacks −\n",
    "\n",
    "       peek() − get the top data element of the stack, without removing it.\n",
    "\n",
    "    isFull() − check if stack is full.\n",
    "\n",
    "    isEmpty() − check if stack is empty.\n",
    "\n",
    "At all times, we maintain a pointer to the last PUSHed data on the stack. As this pointer always represents the top of the stack, hence named top. The top pointer provides top value of the stack without actually removing it.\n",
    "\n"
   ]
  },
  {
   "cell_type": "markdown",
   "id": "f2164f34",
   "metadata": {},
   "source": [
    "# Python program to demonstrate stack implementationusing list"
   ]
  },
  {
   "cell_type": "code",
   "execution_count": 1,
   "id": "efd121f1",
   "metadata": {},
   "outputs": [
    {
     "name": "stdout",
     "output_type": "stream",
     "text": [
      "Initial stack\n",
      "['a', 'b', 'c']\n",
      "\n",
      "Elements popped from stack:\n",
      "c\n",
      "b\n",
      "a\n",
      "\n",
      "Stack after elements are popped:\n",
      "[]\n"
     ]
    }
   ],
   "source": [
    "# Python program to\n",
    "# demonstrate stack implementation\n",
    "# using list\n",
    "\n",
    "stack = []\n",
    "\n",
    "# append() function to push\n",
    "# element in the stack\n",
    "stack.append('a')\n",
    "stack.append('b')\n",
    "stack.append('c')\n",
    "\n",
    "print('Initial stack')\n",
    "print(stack)\n",
    "\n",
    "# pop() function to pop\n",
    "# element from stack in\n",
    "# LIFO order\n",
    "print('\\nElements popped from stack:')\n",
    "print(stack.pop())\n",
    "print(stack.pop())\n",
    "print(stack.pop())\n",
    "\n",
    "print('\\nStack after elements are popped:')\n",
    "print(stack)\n",
    "\n",
    "# uncommenting print(stack.pop())\n",
    "# will cause an IndexError\n",
    "# as the stack is now empty"
   ]
  }
 ],
 "metadata": {
  "kernelspec": {
   "display_name": "Python 3 (ipykernel)",
   "language": "python",
   "name": "python3"
  },
  "language_info": {
   "codemirror_mode": {
    "name": "ipython",
    "version": 3
   },
   "file_extension": ".py",
   "mimetype": "text/x-python",
   "name": "python",
   "nbconvert_exporter": "python",
   "pygments_lexer": "ipython3",
   "version": "3.9.7"
  }
 },
 "nbformat": 4,
 "nbformat_minor": 5
}
